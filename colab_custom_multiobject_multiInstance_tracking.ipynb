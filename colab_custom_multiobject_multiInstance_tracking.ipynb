{
  "nbformat": 4,
  "nbformat_minor": 0,
  "metadata": {
    "colab": {
      "name": "AIguy.ipynb",
      "provenance": []
    },
    "kernelspec": {
      "name": "python3",
      "display_name": "Python 3"
    }
  },
  "cells": [
    {
      "cell_type": "code",
      "metadata": {
        "id": "sV_o3Zn2m9-3",
        "colab_type": "code",
        "outputId": "713f59cd-d84e-408e-c561-4c3419739853",
        "colab": {
          "base_uri": "https://localhost:8080/",
          "height": 138
        }
      },
      "source": [
        "!git clone https://github.com/theAIGuysCode/yolov3_deepsort.git"
      ],
      "execution_count": 0,
      "outputs": [
        {
          "output_type": "stream",
          "text": [
            "Cloning into 'yolov3_deepsort'...\n",
            "remote: Enumerating objects: 58, done.\u001b[K\n",
            "remote: Counting objects:   1% (1/58)\u001b[K\rremote: Counting objects:   3% (2/58)\u001b[K\rremote: Counting objects:   5% (3/58)\u001b[K\rremote: Counting objects:   6% (4/58)\u001b[K\rremote: Counting objects:   8% (5/58)\u001b[K\rremote: Counting objects:  10% (6/58)\u001b[K\rremote: Counting objects:  12% (7/58)\u001b[K\rremote: Counting objects:  13% (8/58)\u001b[K\rremote: Counting objects:  15% (9/58)\u001b[K\rremote: Counting objects:  17% (10/58)\u001b[K\rremote: Counting objects:  18% (11/58)\u001b[K\rremote: Counting objects:  20% (12/58)\u001b[K\rremote: Counting objects:  22% (13/58)\u001b[K\rremote: Counting objects:  24% (14/58)\u001b[K\rremote: Counting objects:  25% (15/58)\u001b[K\rremote: Counting objects:  27% (16/58)\u001b[K\rremote: Counting objects:  29% (17/58)\u001b[K\rremote: Counting objects:  31% (18/58)\u001b[K\rremote: Counting objects:  32% (19/58)\u001b[K\rremote: Counting objects:  34% (20/58)\u001b[K\rremote: Counting objects:  36% (21/58)\u001b[K\rremote: Counting objects:  37% (22/58)\u001b[K\rremote: Counting objects:  39% (23/58)\u001b[K\rremote: Counting objects:  41% (24/58)\u001b[K\rremote: Counting objects:  43% (25/58)\u001b[K\rremote: Counting objects:  44% (26/58)\u001b[K\rremote: Counting objects:  46% (27/58)\u001b[K\rremote: Counting objects:  48% (28/58)\u001b[K\rremote: Counting objects:  50% (29/58)\u001b[K\rremote: Counting objects:  51% (30/58)\u001b[K\rremote: Counting objects:  53% (31/58)\u001b[K\rremote: Counting objects:  55% (32/58)\u001b[K\rremote: Counting objects:  56% (33/58)\u001b[K\rremote: Counting objects:  58% (34/58)\u001b[K\rremote: Counting objects:  60% (35/58)\u001b[K\rremote: Counting objects:  62% (36/58)\u001b[K\rremote: Counting objects:  63% (37/58)\u001b[K\rremote: Counting objects:  65% (38/58)\u001b[K\rremote: Counting objects:  67% (39/58)\u001b[K\rremote: Counting objects:  68% (40/58)\u001b[K\rremote: Counting objects:  70% (41/58)\u001b[K\rremote: Counting objects:  72% (42/58)\u001b[K\rremote: Counting objects:  74% (43/58)\u001b[K\rremote: Counting objects:  75% (44/58)\u001b[K\rremote: Counting objects:  77% (45/58)\u001b[K\rremote: Counting objects:  79% (46/58)\u001b[K\rremote: Counting objects:  81% (47/58)\u001b[K\rremote: Counting objects:  82% (48/58)\u001b[K\rremote: Counting objects:  84% (49/58)\u001b[K\rremote: Counting objects:  86% (50/58)\u001b[K\rremote: Counting objects:  87% (51/58)\u001b[K\rremote: Counting objects:  89% (52/58)\u001b[K\rremote: Counting objects:  91% (53/58)\u001b[K\rremote: Counting objects:  93% (54/58)\u001b[K\rremote: Counting objects:  94% (55/58)\u001b[K\rremote: Counting objects:  96% (56/58)\u001b[K\rremote: Counting objects:  98% (57/58)\u001b[K\rremote: Counting objects: 100% (58/58)\u001b[K\rremote: Counting objects: 100% (58/58), done.\u001b[K\n",
            "remote: Compressing objects: 100% (57/57), done.\u001b[K\n",
            "remote: Total 143 (delta 24), reused 2 (delta 0), pack-reused 85\u001b[K\n",
            "Receiving objects: 100% (143/143), 42.61 MiB | 29.72 MiB/s, done.\n",
            "Resolving deltas: 100% (37/37), done.\n"
          ],
          "name": "stdout"
        }
      ]
    },
    {
      "cell_type": "code",
      "metadata": {
        "id": "_AGgLV6YnXKu",
        "colab_type": "code",
        "outputId": "72c2d144-888f-4774-a0af-f494adfa5499",
        "colab": {
          "base_uri": "https://localhost:8080/",
          "height": 34
        }
      },
      "source": [
        "cd yolov3_deepsort/"
      ],
      "execution_count": 0,
      "outputs": [
        {
          "output_type": "stream",
          "text": [
            "/content/yolov3_deepsort\n"
          ],
          "name": "stdout"
        }
      ]
    },
    {
      "cell_type": "code",
      "metadata": {
        "id": "jgbV8rkpnZG8",
        "colab_type": "code",
        "outputId": "feb4b38e-a40d-421b-abf1-2b3eed7f3ae5",
        "colab": {
          "base_uri": "https://localhost:8080/",
          "height": 86
        }
      },
      "source": [
        "!ls"
      ],
      "execution_count": 0,
      "outputs": [
        {
          "output_type": "stream",
          "text": [
            "conda-cpu.yml  LICENSE\t\t  README.md\t\tweights\n",
            "conda-gpu.yml  load_weights.py\t  requirements-gpu.txt\tyolov3_tf2\n",
            "data\t       model_data\t  requirements.txt\n",
            "deep_sort      object_tracker.py  tools\n"
          ],
          "name": "stdout"
        }
      ]
    },
    {
      "cell_type": "code",
      "metadata": {
        "id": "5SZ67bmRn6nt",
        "colab_type": "code",
        "outputId": "6fdf423c-f6a1-4c93-f31c-328d4a2682c2",
        "colab": {
          "base_uri": "https://localhost:8080/",
          "height": 208
        }
      },
      "source": [
        "!wget https://pjreddie.com/media/files/yolov3.weights -O weights/yolov3.weights"
      ],
      "execution_count": 0,
      "outputs": [
        {
          "output_type": "stream",
          "text": [
            "--2020-05-05 07:29:16--  https://pjreddie.com/media/files/yolov3.weights\n",
            "Resolving pjreddie.com (pjreddie.com)... 128.208.4.108\n",
            "Connecting to pjreddie.com (pjreddie.com)|128.208.4.108|:443... connected.\n",
            "HTTP request sent, awaiting response... 200 OK\n",
            "Length: 248007048 (237M) [application/octet-stream]\n",
            "Saving to: ‘weights/yolov3.weights’\n",
            "\n",
            "weights/yolov3.weig 100%[===================>] 236.52M   515KB/s    in 10m 11s \n",
            "\n",
            "2020-05-05 07:39:28 (396 KB/s) - ‘weights/yolov3.weights’ saved [248007048/248007048]\n",
            "\n"
          ],
          "name": "stdout"
        }
      ]
    },
    {
      "cell_type": "code",
      "metadata": {
        "id": "nja96igrn__P",
        "colab_type": "code",
        "outputId": "135f61d9-f606-4978-ecfc-653104d69128",
        "colab": {
          "base_uri": "https://localhost:8080/",
          "height": 1000
        }
      },
      "source": [
        "!python load_weights.py"
      ],
      "execution_count": 0,
      "outputs": [
        {
          "output_type": "stream",
          "text": [
            "/usr/local/lib/python3.6/dist-packages/statsmodels/tools/_testing.py:19: FutureWarning: pandas.util.testing is deprecated. Use the functions in the public API at pandas.testing instead.\n",
            "  import pandas.util.testing as tm\n",
            "2020-05-05 07:40:23.880513: I tensorflow/core/platform/cpu_feature_guard.cc:142] Your CPU supports instructions that this TensorFlow binary was not compiled to use: AVX2 FMA\n",
            "2020-05-05 07:40:23.885754: I tensorflow/core/platform/profile_utils/cpu_utils.cc:94] CPU Frequency: 2300000000 Hz\n",
            "2020-05-05 07:40:23.886020: I tensorflow/compiler/xla/service/service.cc:168] XLA service 0x1b9ebc0 executing computations on platform Host. Devices:\n",
            "2020-05-05 07:40:23.886062: I tensorflow/compiler/xla/service/service.cc:175]   StreamExecutor device (0): Host, Default Version\n",
            "Model: \"yolov3\"\n",
            "__________________________________________________________________________________________________\n",
            "Layer (type)                    Output Shape         Param #     Connected to                     \n",
            "==================================================================================================\n",
            "input (InputLayer)              [(None, None, None,  0                                            \n",
            "__________________________________________________________________________________________________\n",
            "yolo_darknet (Model)            ((None, None, None,  40620640    input[0][0]                      \n",
            "__________________________________________________________________________________________________\n",
            "yolo_conv_0 (Model)             (None, None, None, 5 11024384    yolo_darknet[1][2]               \n",
            "__________________________________________________________________________________________________\n",
            "yolo_conv_1 (Model)             (None, None, None, 2 2957312     yolo_conv_0[1][0]                \n",
            "                                                                 yolo_darknet[1][1]               \n",
            "__________________________________________________________________________________________________\n",
            "yolo_conv_2 (Model)             (None, None, None, 1 741376      yolo_conv_1[1][0]                \n",
            "                                                                 yolo_darknet[1][0]               \n",
            "__________________________________________________________________________________________________\n",
            "yolo_output_0 (Model)           (None, None, None, 3 4984063     yolo_conv_0[1][0]                \n",
            "__________________________________________________________________________________________________\n",
            "yolo_output_1 (Model)           (None, None, None, 3 1312511     yolo_conv_1[1][0]                \n",
            "__________________________________________________________________________________________________\n",
            "yolo_output_2 (Model)           (None, None, None, 3 361471      yolo_conv_2[1][0]                \n",
            "__________________________________________________________________________________________________\n",
            "yolo_boxes_0 (Lambda)           ((None, None, None,  0           yolo_output_0[1][0]              \n",
            "__________________________________________________________________________________________________\n",
            "yolo_boxes_1 (Lambda)           ((None, None, None,  0           yolo_output_1[1][0]              \n",
            "__________________________________________________________________________________________________\n",
            "yolo_boxes_2 (Lambda)           ((None, None, None,  0           yolo_output_2[1][0]              \n",
            "__________________________________________________________________________________________________\n",
            "yolo_nms (Lambda)               ((None, 100, 4), (No 0           yolo_boxes_0[0][0]               \n",
            "                                                                 yolo_boxes_0[0][1]               \n",
            "                                                                 yolo_boxes_0[0][2]               \n",
            "                                                                 yolo_boxes_1[0][0]               \n",
            "                                                                 yolo_boxes_1[0][1]               \n",
            "                                                                 yolo_boxes_1[0][2]               \n",
            "                                                                 yolo_boxes_2[0][0]               \n",
            "                                                                 yolo_boxes_2[0][1]               \n",
            "                                                                 yolo_boxes_2[0][2]               \n",
            "==================================================================================================\n",
            "Total params: 62,001,757\n",
            "Trainable params: 61,949,149\n",
            "Non-trainable params: 52,608\n",
            "__________________________________________________________________________________________________\n",
            "I0505 07:40:31.538251 140293854844800 load_weights.py:19] model created\n",
            "I0505 07:40:31.540790 140293854844800 utils.py:47] yolo_darknet/conv2d bn\n",
            "I0505 07:40:31.543650 140293854844800 utils.py:47] yolo_darknet/conv2d_1 bn\n",
            "I0505 07:40:31.546258 140293854844800 utils.py:47] yolo_darknet/conv2d_2 bn\n",
            "I0505 07:40:31.548785 140293854844800 utils.py:47] yolo_darknet/conv2d_3 bn\n",
            "I0505 07:40:31.551493 140293854844800 utils.py:47] yolo_darknet/conv2d_4 bn\n",
            "I0505 07:40:31.554545 140293854844800 utils.py:47] yolo_darknet/conv2d_5 bn\n",
            "I0505 07:40:31.557292 140293854844800 utils.py:47] yolo_darknet/conv2d_6 bn\n",
            "I0505 07:40:31.560435 140293854844800 utils.py:47] yolo_darknet/conv2d_7 bn\n",
            "I0505 07:40:31.563190 140293854844800 utils.py:47] yolo_darknet/conv2d_8 bn\n",
            "I0505 07:40:31.566244 140293854844800 utils.py:47] yolo_darknet/conv2d_9 bn\n",
            "I0505 07:40:31.571145 140293854844800 utils.py:47] yolo_darknet/conv2d_10 bn\n",
            "I0505 07:40:31.574006 140293854844800 utils.py:47] yolo_darknet/conv2d_11 bn\n",
            "I0505 07:40:31.578704 140293854844800 utils.py:47] yolo_darknet/conv2d_12 bn\n",
            "I0505 07:40:31.581551 140293854844800 utils.py:47] yolo_darknet/conv2d_13 bn\n",
            "I0505 07:40:31.586224 140293854844800 utils.py:47] yolo_darknet/conv2d_14 bn\n",
            "I0505 07:40:31.588693 140293854844800 utils.py:47] yolo_darknet/conv2d_15 bn\n",
            "I0505 07:40:31.592825 140293854844800 utils.py:47] yolo_darknet/conv2d_16 bn\n",
            "I0505 07:40:31.595979 140293854844800 utils.py:47] yolo_darknet/conv2d_17 bn\n",
            "I0505 07:40:31.600217 140293854844800 utils.py:47] yolo_darknet/conv2d_18 bn\n",
            "I0505 07:40:31.602747 140293854844800 utils.py:47] yolo_darknet/conv2d_19 bn\n",
            "I0505 07:40:31.607092 140293854844800 utils.py:47] yolo_darknet/conv2d_20 bn\n",
            "I0505 07:40:31.609480 140293854844800 utils.py:47] yolo_darknet/conv2d_21 bn\n",
            "I0505 07:40:31.613781 140293854844800 utils.py:47] yolo_darknet/conv2d_22 bn\n",
            "I0505 07:40:31.616322 140293854844800 utils.py:47] yolo_darknet/conv2d_23 bn\n",
            "I0505 07:40:31.620047 140293854844800 utils.py:47] yolo_darknet/conv2d_24 bn\n",
            "I0505 07:40:31.622442 140293854844800 utils.py:47] yolo_darknet/conv2d_25 bn\n",
            "I0505 07:40:31.626088 140293854844800 utils.py:47] yolo_darknet/conv2d_26 bn\n",
            "I0505 07:40:31.636965 140293854844800 utils.py:47] yolo_darknet/conv2d_27 bn\n",
            "I0505 07:40:31.640306 140293854844800 utils.py:47] yolo_darknet/conv2d_28 bn\n",
            "I0505 07:40:31.650978 140293854844800 utils.py:47] yolo_darknet/conv2d_29 bn\n",
            "I0505 07:40:31.654581 140293854844800 utils.py:47] yolo_darknet/conv2d_30 bn\n",
            "I0505 07:40:31.666774 140293854844800 utils.py:47] yolo_darknet/conv2d_31 bn\n",
            "I0505 07:40:31.670280 140293854844800 utils.py:47] yolo_darknet/conv2d_32 bn\n",
            "I0505 07:40:31.681022 140293854844800 utils.py:47] yolo_darknet/conv2d_33 bn\n",
            "I0505 07:40:31.684250 140293854844800 utils.py:47] yolo_darknet/conv2d_34 bn\n",
            "I0505 07:40:31.693078 140293854844800 utils.py:47] yolo_darknet/conv2d_35 bn\n",
            "I0505 07:40:31.696583 140293854844800 utils.py:47] yolo_darknet/conv2d_36 bn\n",
            "I0505 07:40:31.706543 140293854844800 utils.py:47] yolo_darknet/conv2d_37 bn\n",
            "I0505 07:40:31.709888 140293854844800 utils.py:47] yolo_darknet/conv2d_38 bn\n",
            "I0505 07:40:31.722182 140293854844800 utils.py:47] yolo_darknet/conv2d_39 bn\n",
            "I0505 07:40:31.725730 140293854844800 utils.py:47] yolo_darknet/conv2d_40 bn\n",
            "I0505 07:40:31.736556 140293854844800 utils.py:47] yolo_darknet/conv2d_41 bn\n",
            "I0505 07:40:31.739793 140293854844800 utils.py:47] yolo_darknet/conv2d_42 bn\n",
            "I0505 07:40:31.751369 140293854844800 utils.py:47] yolo_darknet/conv2d_43 bn\n",
            "I0505 07:40:31.819113 140293854844800 utils.py:47] yolo_darknet/conv2d_44 bn\n",
            "I0505 07:40:31.826877 140293854844800 utils.py:47] yolo_darknet/conv2d_45 bn\n",
            "I0505 07:40:31.874517 140293854844800 utils.py:47] yolo_darknet/conv2d_46 bn\n",
            "I0505 07:40:31.881984 140293854844800 utils.py:47] yolo_darknet/conv2d_47 bn\n",
            "I0505 07:40:31.940275 140293854844800 utils.py:47] yolo_darknet/conv2d_48 bn\n",
            "I0505 07:40:31.947857 140293854844800 utils.py:47] yolo_darknet/conv2d_49 bn\n",
            "I0505 07:40:31.991747 140293854844800 utils.py:47] yolo_darknet/conv2d_50 bn\n",
            "I0505 07:40:32.000180 140293854844800 utils.py:47] yolo_darknet/conv2d_51 bn\n",
            "I0505 07:40:32.041225 140293854844800 utils.py:47] yolo_conv_0/conv2d_52 bn\n",
            "I0505 07:40:32.046282 140293854844800 utils.py:47] yolo_conv_0/conv2d_53 bn\n",
            "I0505 07:40:32.085258 140293854844800 utils.py:47] yolo_conv_0/conv2d_54 bn\n",
            "I0505 07:40:32.091744 140293854844800 utils.py:47] yolo_conv_0/conv2d_55 bn\n",
            "I0505 07:40:32.135139 140293854844800 utils.py:47] yolo_conv_0/conv2d_56 bn\n",
            "I0505 07:40:32.140571 140293854844800 utils.py:47] yolo_output_0/conv2d_57 bn\n",
            "I0505 07:40:32.189313 140293854844800 utils.py:47] yolo_output_0/conv2d_58 bias\n",
            "I0505 07:40:32.191987 140293854844800 utils.py:47] yolo_conv_1/conv2d_59 bn\n",
            "I0505 07:40:32.193697 140293854844800 utils.py:47] yolo_conv_1/conv2d_60 bn\n",
            "I0505 07:40:32.195486 140293854844800 utils.py:47] yolo_conv_1/conv2d_61 bn\n",
            "I0505 07:40:32.203226 140293854844800 utils.py:47] yolo_conv_1/conv2d_62 bn\n",
            "I0505 07:40:32.205741 140293854844800 utils.py:47] yolo_conv_1/conv2d_63 bn\n",
            "I0505 07:40:32.212280 140293854844800 utils.py:47] yolo_conv_1/conv2d_64 bn\n",
            "I0505 07:40:32.214011 140293854844800 utils.py:47] yolo_output_1/conv2d_65 bn\n",
            "I0505 07:40:32.220738 140293854844800 utils.py:47] yolo_output_1/conv2d_66 bias\n",
            "I0505 07:40:32.222413 140293854844800 utils.py:47] yolo_conv_2/conv2d_67 bn\n",
            "I0505 07:40:32.223752 140293854844800 utils.py:47] yolo_conv_2/conv2d_68 bn\n",
            "I0505 07:40:32.225120 140293854844800 utils.py:47] yolo_conv_2/conv2d_69 bn\n",
            "I0505 07:40:32.227607 140293854844800 utils.py:47] yolo_conv_2/conv2d_70 bn\n",
            "I0505 07:40:32.228838 140293854844800 utils.py:47] yolo_conv_2/conv2d_71 bn\n",
            "I0505 07:40:32.231223 140293854844800 utils.py:47] yolo_conv_2/conv2d_72 bn\n",
            "I0505 07:40:32.232380 140293854844800 utils.py:47] yolo_output_2/conv2d_73 bn\n",
            "I0505 07:40:32.234497 140293854844800 utils.py:47] yolo_output_2/conv2d_74 bias\n",
            "I0505 07:40:32.235324 140293854844800 load_weights.py:22] weights loaded\n",
            "I0505 07:40:33.588267 140293854844800 load_weights.py:26] sanity check passed\n",
            "I0505 07:40:34.178607 140293854844800 load_weights.py:29] weights saved\n"
          ],
          "name": "stdout"
        }
      ]
    },
    {
      "cell_type": "code",
      "metadata": {
        "id": "zga_fvlcr2l_",
        "colab_type": "code",
        "outputId": "5e65b522-9777-4768-c235-20a3b4a33eb6",
        "colab": {
          "base_uri": "https://localhost:8080/",
          "height": 1000
        }
      },
      "source": [
        "!pip install -r requirements.txt"
      ],
      "execution_count": 0,
      "outputs": [
        {
          "output_type": "stream",
          "text": [
            "Collecting tensorflow==2.0.1\n",
            "\u001b[?25l  Downloading https://files.pythonhosted.org/packages/43/16/b07e3f7a4a024b47918f7018967eb984b0c542458a6141d8c48515aa81d4/tensorflow-2.0.1-cp36-cp36m-manylinux2010_x86_64.whl (86.3MB)\n",
            "\u001b[K     |████████████████████████████████| 86.3MB 51kB/s \n",
            "\u001b[?25hRequirement already satisfied: numpy in /usr/local/lib/python3.6/dist-packages (from -r requirements.txt (line 2)) (1.18.3)\n",
            "Collecting opencv-python==4.1.1.26\n",
            "\u001b[?25l  Downloading https://files.pythonhosted.org/packages/5e/7e/bd5425f4dacb73367fddc71388a47c1ea570839197c2bcad86478e565186/opencv_python-4.1.1.26-cp36-cp36m-manylinux1_x86_64.whl (28.7MB)\n",
            "\u001b[K     |████████████████████████████████| 28.7MB 167kB/s \n",
            "\u001b[?25hRequirement already satisfied: lxml in /usr/local/lib/python3.6/dist-packages (from -r requirements.txt (line 4)) (4.2.6)\n",
            "Requirement already satisfied: tqdm in /usr/local/lib/python3.6/dist-packages (from -r requirements.txt (line 5)) (4.38.0)\n",
            "Requirement already satisfied: seaborn in /usr/local/lib/python3.6/dist-packages (from -r requirements.txt (line 6)) (0.10.1)\n",
            "Requirement already satisfied: pillow in /usr/local/lib/python3.6/dist-packages (from -r requirements.txt (line 7)) (7.0.0)\n",
            "Requirement already satisfied: opt-einsum>=2.3.2 in /usr/local/lib/python3.6/dist-packages (from tensorflow==2.0.1->-r requirements.txt (line 1)) (3.2.1)\n",
            "Requirement already satisfied: termcolor>=1.1.0 in /usr/local/lib/python3.6/dist-packages (from tensorflow==2.0.1->-r requirements.txt (line 1)) (1.1.0)\n",
            "Requirement already satisfied: keras-applications>=1.0.8 in /usr/local/lib/python3.6/dist-packages (from tensorflow==2.0.1->-r requirements.txt (line 1)) (1.0.8)\n",
            "Requirement already satisfied: wrapt>=1.11.1 in /usr/local/lib/python3.6/dist-packages (from tensorflow==2.0.1->-r requirements.txt (line 1)) (1.12.1)\n",
            "Requirement already satisfied: google-pasta>=0.1.6 in /usr/local/lib/python3.6/dist-packages (from tensorflow==2.0.1->-r requirements.txt (line 1)) (0.2.0)\n",
            "Requirement already satisfied: absl-py>=0.7.0 in /usr/local/lib/python3.6/dist-packages (from tensorflow==2.0.1->-r requirements.txt (line 1)) (0.9.0)\n",
            "Requirement already satisfied: astor>=0.6.0 in /usr/local/lib/python3.6/dist-packages (from tensorflow==2.0.1->-r requirements.txt (line 1)) (0.8.1)\n",
            "Requirement already satisfied: six>=1.10.0 in /usr/local/lib/python3.6/dist-packages (from tensorflow==2.0.1->-r requirements.txt (line 1)) (1.12.0)\n",
            "Requirement already satisfied: grpcio>=1.8.6 in /usr/local/lib/python3.6/dist-packages (from tensorflow==2.0.1->-r requirements.txt (line 1)) (1.28.1)\n",
            "Requirement already satisfied: wheel>=0.26; python_version >= \"3\" in /usr/local/lib/python3.6/dist-packages (from tensorflow==2.0.1->-r requirements.txt (line 1)) (0.34.2)\n",
            "Collecting tensorflow-estimator<2.1.0,>=2.0.0\n",
            "\u001b[?25l  Downloading https://files.pythonhosted.org/packages/fc/08/8b927337b7019c374719145d1dceba21a8bb909b93b1ad6f8fb7d22c1ca1/tensorflow_estimator-2.0.1-py2.py3-none-any.whl (449kB)\n",
            "\u001b[K     |████████████████████████████████| 450kB 50.4MB/s \n",
            "\u001b[?25hRequirement already satisfied: protobuf>=3.6.1 in /usr/local/lib/python3.6/dist-packages (from tensorflow==2.0.1->-r requirements.txt (line 1)) (3.10.0)\n",
            "Requirement already satisfied: keras-preprocessing>=1.0.5 in /usr/local/lib/python3.6/dist-packages (from tensorflow==2.0.1->-r requirements.txt (line 1)) (1.1.0)\n",
            "Collecting gast==0.2.2\n",
            "  Downloading https://files.pythonhosted.org/packages/4e/35/11749bf99b2d4e3cceb4d55ca22590b0d7c2c62b9de38ac4a4a7f4687421/gast-0.2.2.tar.gz\n",
            "Collecting tensorboard<2.1.0,>=2.0.0\n",
            "\u001b[?25l  Downloading https://files.pythonhosted.org/packages/76/54/99b9d5d52d5cb732f099baaaf7740403e83fe6b0cedde940fabd2b13d75a/tensorboard-2.0.2-py3-none-any.whl (3.8MB)\n",
            "\u001b[K     |████████████████████████████████| 3.8MB 33.6MB/s \n",
            "\u001b[?25hRequirement already satisfied: pandas>=0.22.0 in /usr/local/lib/python3.6/dist-packages (from seaborn->-r requirements.txt (line 6)) (1.0.3)\n",
            "Requirement already satisfied: scipy>=1.0.1 in /usr/local/lib/python3.6/dist-packages (from seaborn->-r requirements.txt (line 6)) (1.4.1)\n",
            "Requirement already satisfied: matplotlib>=2.1.2 in /usr/local/lib/python3.6/dist-packages (from seaborn->-r requirements.txt (line 6)) (3.2.1)\n",
            "Requirement already satisfied: h5py in /usr/local/lib/python3.6/dist-packages (from keras-applications>=1.0.8->tensorflow==2.0.1->-r requirements.txt (line 1)) (2.10.0)\n",
            "Requirement already satisfied: setuptools in /usr/local/lib/python3.6/dist-packages (from protobuf>=3.6.1->tensorflow==2.0.1->-r requirements.txt (line 1)) (46.1.3)\n",
            "Requirement already satisfied: google-auth-oauthlib<0.5,>=0.4.1 in /usr/local/lib/python3.6/dist-packages (from tensorboard<2.1.0,>=2.0.0->tensorflow==2.0.1->-r requirements.txt (line 1)) (0.4.1)\n",
            "Requirement already satisfied: requests<3,>=2.21.0 in /usr/local/lib/python3.6/dist-packages (from tensorboard<2.1.0,>=2.0.0->tensorflow==2.0.1->-r requirements.txt (line 1)) (2.23.0)\n",
            "Requirement already satisfied: werkzeug>=0.11.15 in /usr/local/lib/python3.6/dist-packages (from tensorboard<2.1.0,>=2.0.0->tensorflow==2.0.1->-r requirements.txt (line 1)) (1.0.1)\n",
            "Requirement already satisfied: google-auth<2,>=1.6.3 in /usr/local/lib/python3.6/dist-packages (from tensorboard<2.1.0,>=2.0.0->tensorflow==2.0.1->-r requirements.txt (line 1)) (1.7.2)\n",
            "Requirement already satisfied: markdown>=2.6.8 in /usr/local/lib/python3.6/dist-packages (from tensorboard<2.1.0,>=2.0.0->tensorflow==2.0.1->-r requirements.txt (line 1)) (3.2.1)\n",
            "Requirement already satisfied: pytz>=2017.2 in /usr/local/lib/python3.6/dist-packages (from pandas>=0.22.0->seaborn->-r requirements.txt (line 6)) (2018.9)\n",
            "Requirement already satisfied: python-dateutil>=2.6.1 in /usr/local/lib/python3.6/dist-packages (from pandas>=0.22.0->seaborn->-r requirements.txt (line 6)) (2.8.1)\n",
            "Requirement already satisfied: pyparsing!=2.0.4,!=2.1.2,!=2.1.6,>=2.0.1 in /usr/local/lib/python3.6/dist-packages (from matplotlib>=2.1.2->seaborn->-r requirements.txt (line 6)) (2.4.7)\n",
            "Requirement already satisfied: kiwisolver>=1.0.1 in /usr/local/lib/python3.6/dist-packages (from matplotlib>=2.1.2->seaborn->-r requirements.txt (line 6)) (1.2.0)\n",
            "Requirement already satisfied: cycler>=0.10 in /usr/local/lib/python3.6/dist-packages (from matplotlib>=2.1.2->seaborn->-r requirements.txt (line 6)) (0.10.0)\n",
            "Requirement already satisfied: requests-oauthlib>=0.7.0 in /usr/local/lib/python3.6/dist-packages (from google-auth-oauthlib<0.5,>=0.4.1->tensorboard<2.1.0,>=2.0.0->tensorflow==2.0.1->-r requirements.txt (line 1)) (1.3.0)\n",
            "Requirement already satisfied: chardet<4,>=3.0.2 in /usr/local/lib/python3.6/dist-packages (from requests<3,>=2.21.0->tensorboard<2.1.0,>=2.0.0->tensorflow==2.0.1->-r requirements.txt (line 1)) (3.0.4)\n",
            "Requirement already satisfied: certifi>=2017.4.17 in /usr/local/lib/python3.6/dist-packages (from requests<3,>=2.21.0->tensorboard<2.1.0,>=2.0.0->tensorflow==2.0.1->-r requirements.txt (line 1)) (2020.4.5.1)\n",
            "Requirement already satisfied: idna<3,>=2.5 in /usr/local/lib/python3.6/dist-packages (from requests<3,>=2.21.0->tensorboard<2.1.0,>=2.0.0->tensorflow==2.0.1->-r requirements.txt (line 1)) (2.9)\n",
            "Requirement already satisfied: urllib3!=1.25.0,!=1.25.1,<1.26,>=1.21.1 in /usr/local/lib/python3.6/dist-packages (from requests<3,>=2.21.0->tensorboard<2.1.0,>=2.0.0->tensorflow==2.0.1->-r requirements.txt (line 1)) (1.24.3)\n",
            "Requirement already satisfied: cachetools<3.2,>=2.0.0 in /usr/local/lib/python3.6/dist-packages (from google-auth<2,>=1.6.3->tensorboard<2.1.0,>=2.0.0->tensorflow==2.0.1->-r requirements.txt (line 1)) (3.1.1)\n",
            "Requirement already satisfied: rsa<4.1,>=3.1.4 in /usr/local/lib/python3.6/dist-packages (from google-auth<2,>=1.6.3->tensorboard<2.1.0,>=2.0.0->tensorflow==2.0.1->-r requirements.txt (line 1)) (4.0)\n",
            "Requirement already satisfied: pyasn1-modules>=0.2.1 in /usr/local/lib/python3.6/dist-packages (from google-auth<2,>=1.6.3->tensorboard<2.1.0,>=2.0.0->tensorflow==2.0.1->-r requirements.txt (line 1)) (0.2.8)\n",
            "Requirement already satisfied: oauthlib>=3.0.0 in /usr/local/lib/python3.6/dist-packages (from requests-oauthlib>=0.7.0->google-auth-oauthlib<0.5,>=0.4.1->tensorboard<2.1.0,>=2.0.0->tensorflow==2.0.1->-r requirements.txt (line 1)) (3.1.0)\n",
            "Requirement already satisfied: pyasn1>=0.1.3 in /usr/local/lib/python3.6/dist-packages (from rsa<4.1,>=3.1.4->google-auth<2,>=1.6.3->tensorboard<2.1.0,>=2.0.0->tensorflow==2.0.1->-r requirements.txt (line 1)) (0.4.8)\n",
            "Building wheels for collected packages: gast\n",
            "  Building wheel for gast (setup.py) ... \u001b[?25l\u001b[?25hdone\n",
            "  Created wheel for gast: filename=gast-0.2.2-cp36-none-any.whl size=7540 sha256=803e0a34656035beefbe97c25bbbd52c984260f7090aece3aa0a875f24b63762\n",
            "  Stored in directory: /root/.cache/pip/wheels/5c/2e/7e/a1d4d4fcebe6c381f378ce7743a3ced3699feb89bcfbdadadd\n",
            "Successfully built gast\n",
            "\u001b[31mERROR: tensorflow-probability 0.10.0rc0 has requirement gast>=0.3.2, but you'll have gast 0.2.2 which is incompatible.\u001b[0m\n",
            "\u001b[31mERROR: albumentations 0.1.12 has requirement imgaug<0.2.7,>=0.2.5, but you'll have imgaug 0.2.9 which is incompatible.\u001b[0m\n",
            "Installing collected packages: tensorflow-estimator, gast, tensorboard, tensorflow, opencv-python\n",
            "  Found existing installation: tensorflow-estimator 2.2.0\n",
            "    Uninstalling tensorflow-estimator-2.2.0:\n",
            "      Successfully uninstalled tensorflow-estimator-2.2.0\n",
            "  Found existing installation: gast 0.3.3\n",
            "    Uninstalling gast-0.3.3:\n",
            "      Successfully uninstalled gast-0.3.3\n",
            "  Found existing installation: tensorboard 2.2.1\n",
            "    Uninstalling tensorboard-2.2.1:\n",
            "      Successfully uninstalled tensorboard-2.2.1\n",
            "  Found existing installation: tensorflow 2.2.0rc3\n",
            "    Uninstalling tensorflow-2.2.0rc3:\n",
            "      Successfully uninstalled tensorflow-2.2.0rc3\n",
            "  Found existing installation: opencv-python 4.1.2.30\n",
            "    Uninstalling opencv-python-4.1.2.30:\n",
            "      Successfully uninstalled opencv-python-4.1.2.30\n",
            "Successfully installed gast-0.2.2 opencv-python-4.1.1.26 tensorboard-2.0.2 tensorflow-2.0.1 tensorflow-estimator-2.0.1\n"
          ],
          "name": "stdout"
        }
      ]
    },
    {
      "cell_type": "code",
      "metadata": {
        "id": "IDd1HJ1PuMfs",
        "colab_type": "code",
        "outputId": "72c5f318-909c-41ea-89dc-c7b555b6c019",
        "colab": {
          "base_uri": "https://localhost:8080/",
          "height": 606
        }
      },
      "source": [
        "!pip install tensorflow==2.0.1"
      ],
      "execution_count": 0,
      "outputs": [
        {
          "output_type": "stream",
          "text": [
            "Requirement already satisfied: tensorflow==2.0.1 in /usr/local/lib/python3.6/dist-packages (2.0.1)\n",
            "Requirement already satisfied: wheel>=0.26; python_version >= \"3\" in /usr/local/lib/python3.6/dist-packages (from tensorflow==2.0.1) (0.34.2)\n",
            "Requirement already satisfied: opt-einsum>=2.3.2 in /usr/local/lib/python3.6/dist-packages (from tensorflow==2.0.1) (3.2.1)\n",
            "Requirement already satisfied: keras-applications>=1.0.8 in /usr/local/lib/python3.6/dist-packages (from tensorflow==2.0.1) (1.0.8)\n",
            "Requirement already satisfied: wrapt>=1.11.1 in /usr/local/lib/python3.6/dist-packages (from tensorflow==2.0.1) (1.12.1)\n",
            "Requirement already satisfied: grpcio>=1.8.6 in /usr/local/lib/python3.6/dist-packages (from tensorflow==2.0.1) (1.28.1)\n",
            "Requirement already satisfied: astor>=0.6.0 in /usr/local/lib/python3.6/dist-packages (from tensorflow==2.0.1) (0.8.1)\n",
            "Requirement already satisfied: termcolor>=1.1.0 in /usr/local/lib/python3.6/dist-packages (from tensorflow==2.0.1) (1.1.0)\n",
            "Requirement already satisfied: absl-py>=0.7.0 in /usr/local/lib/python3.6/dist-packages (from tensorflow==2.0.1) (0.9.0)\n",
            "Requirement already satisfied: tensorflow-estimator<2.1.0,>=2.0.0 in /usr/local/lib/python3.6/dist-packages (from tensorflow==2.0.1) (2.0.1)\n",
            "Requirement already satisfied: tensorboard<2.1.0,>=2.0.0 in /usr/local/lib/python3.6/dist-packages (from tensorflow==2.0.1) (2.0.2)\n",
            "Requirement already satisfied: gast==0.2.2 in /usr/local/lib/python3.6/dist-packages (from tensorflow==2.0.1) (0.2.2)\n",
            "Requirement already satisfied: protobuf>=3.6.1 in /usr/local/lib/python3.6/dist-packages (from tensorflow==2.0.1) (3.10.0)\n",
            "Requirement already satisfied: keras-preprocessing>=1.0.5 in /usr/local/lib/python3.6/dist-packages (from tensorflow==2.0.1) (1.1.0)\n",
            "Requirement already satisfied: numpy<2.0,>=1.16.0 in /usr/local/lib/python3.6/dist-packages (from tensorflow==2.0.1) (1.18.3)\n",
            "Requirement already satisfied: six>=1.10.0 in /usr/local/lib/python3.6/dist-packages (from tensorflow==2.0.1) (1.12.0)\n",
            "Requirement already satisfied: google-pasta>=0.1.6 in /usr/local/lib/python3.6/dist-packages (from tensorflow==2.0.1) (0.2.0)\n",
            "Requirement already satisfied: h5py in /usr/local/lib/python3.6/dist-packages (from keras-applications>=1.0.8->tensorflow==2.0.1) (2.10.0)\n",
            "Requirement already satisfied: markdown>=2.6.8 in /usr/local/lib/python3.6/dist-packages (from tensorboard<2.1.0,>=2.0.0->tensorflow==2.0.1) (3.2.1)\n",
            "Requirement already satisfied: werkzeug>=0.11.15 in /usr/local/lib/python3.6/dist-packages (from tensorboard<2.1.0,>=2.0.0->tensorflow==2.0.1) (1.0.1)\n",
            "Requirement already satisfied: setuptools>=41.0.0 in /usr/local/lib/python3.6/dist-packages (from tensorboard<2.1.0,>=2.0.0->tensorflow==2.0.1) (46.1.3)\n",
            "Requirement already satisfied: google-auth-oauthlib<0.5,>=0.4.1 in /usr/local/lib/python3.6/dist-packages (from tensorboard<2.1.0,>=2.0.0->tensorflow==2.0.1) (0.4.1)\n",
            "Requirement already satisfied: requests<3,>=2.21.0 in /usr/local/lib/python3.6/dist-packages (from tensorboard<2.1.0,>=2.0.0->tensorflow==2.0.1) (2.23.0)\n",
            "Requirement already satisfied: google-auth<2,>=1.6.3 in /usr/local/lib/python3.6/dist-packages (from tensorboard<2.1.0,>=2.0.0->tensorflow==2.0.1) (1.7.2)\n",
            "Requirement already satisfied: requests-oauthlib>=0.7.0 in /usr/local/lib/python3.6/dist-packages (from google-auth-oauthlib<0.5,>=0.4.1->tensorboard<2.1.0,>=2.0.0->tensorflow==2.0.1) (1.3.0)\n",
            "Requirement already satisfied: urllib3!=1.25.0,!=1.25.1,<1.26,>=1.21.1 in /usr/local/lib/python3.6/dist-packages (from requests<3,>=2.21.0->tensorboard<2.1.0,>=2.0.0->tensorflow==2.0.1) (1.24.3)\n",
            "Requirement already satisfied: certifi>=2017.4.17 in /usr/local/lib/python3.6/dist-packages (from requests<3,>=2.21.0->tensorboard<2.1.0,>=2.0.0->tensorflow==2.0.1) (2020.4.5.1)\n",
            "Requirement already satisfied: idna<3,>=2.5 in /usr/local/lib/python3.6/dist-packages (from requests<3,>=2.21.0->tensorboard<2.1.0,>=2.0.0->tensorflow==2.0.1) (2.9)\n",
            "Requirement already satisfied: chardet<4,>=3.0.2 in /usr/local/lib/python3.6/dist-packages (from requests<3,>=2.21.0->tensorboard<2.1.0,>=2.0.0->tensorflow==2.0.1) (3.0.4)\n",
            "Requirement already satisfied: rsa<4.1,>=3.1.4 in /usr/local/lib/python3.6/dist-packages (from google-auth<2,>=1.6.3->tensorboard<2.1.0,>=2.0.0->tensorflow==2.0.1) (4.0)\n",
            "Requirement already satisfied: pyasn1-modules>=0.2.1 in /usr/local/lib/python3.6/dist-packages (from google-auth<2,>=1.6.3->tensorboard<2.1.0,>=2.0.0->tensorflow==2.0.1) (0.2.8)\n",
            "Requirement already satisfied: cachetools<3.2,>=2.0.0 in /usr/local/lib/python3.6/dist-packages (from google-auth<2,>=1.6.3->tensorboard<2.1.0,>=2.0.0->tensorflow==2.0.1) (3.1.1)\n",
            "Requirement already satisfied: oauthlib>=3.0.0 in /usr/local/lib/python3.6/dist-packages (from requests-oauthlib>=0.7.0->google-auth-oauthlib<0.5,>=0.4.1->tensorboard<2.1.0,>=2.0.0->tensorflow==2.0.1) (3.1.0)\n",
            "Requirement already satisfied: pyasn1>=0.1.3 in /usr/local/lib/python3.6/dist-packages (from rsa<4.1,>=3.1.4->google-auth<2,>=1.6.3->tensorboard<2.1.0,>=2.0.0->tensorflow==2.0.1) (0.4.8)\n"
          ],
          "name": "stdout"
        }
      ]
    },
    {
      "cell_type": "code",
      "metadata": {
        "id": "yY6anPBE8oDP",
        "colab_type": "code",
        "colab": {}
      },
      "source": [
        "%matplotlib notebook"
      ],
      "execution_count": 0,
      "outputs": []
    },
    {
      "cell_type": "code",
      "metadata": {
        "id": "eP_TgERN8vfi",
        "colab_type": "code",
        "outputId": "9d5b4fd1-44e5-4d65-ea98-b0d5aba80248",
        "colab": {
          "base_uri": "https://localhost:8080/",
          "height": 34
        }
      },
      "source": [
        "%%writefile object_tracker.py\n",
        "\n",
        "import time, random\n",
        "import numpy as np\n",
        "from absl import app, flags, logging\n",
        "from absl.flags import FLAGS\n",
        "import cv2\n",
        "import matplotlib.pyplot as plt\n",
        "import tensorflow as tf\n",
        "from yolov3_tf2.models import (\n",
        "    YoloV3, YoloV3Tiny\n",
        ")\n",
        "from yolov3_tf2.dataset import transform_images\n",
        "from yolov3_tf2.utils import draw_outputs, convert_boxes\n",
        "\n",
        "from deep_sort import preprocessing\n",
        "from deep_sort import nn_matching\n",
        "from deep_sort.detection import Detection\n",
        "from deep_sort.tracker import Tracker\n",
        "from tools import generate_detections as gdet\n",
        "from PIL import Image\n",
        "\n",
        "flags.DEFINE_string('classes', './data/labels/coco.names', 'path to classes file')\n",
        "flags.DEFINE_string('weights', './weights/yolov3.tf',\n",
        "                    'path to weights file')\n",
        "flags.DEFINE_boolean('tiny', False, 'yolov3 or yolov3-tiny')\n",
        "flags.DEFINE_integer('size', 416, 'resize images to')\n",
        "flags.DEFINE_string('video', './data/video/test.mp4',\n",
        "                    'path to video file or number for webcam)')\n",
        "flags.DEFINE_string('output', None, 'path to output video')\n",
        "flags.DEFINE_string('output_format', 'XVID', 'codec used in VideoWriter when saving video to file')\n",
        "flags.DEFINE_integer('num_classes', 80, 'number of classes in the model')\n",
        "\n",
        "\n",
        "def main(_argv):\n",
        "    # Definition of the parameters\n",
        "    max_cosine_distance = 0.5\n",
        "    nn_budget = None\n",
        "    nms_max_overlap = 1.0\n",
        "    \n",
        "    #initialize deep sort\n",
        "    model_filename = 'model_data/mars-small128.pb'\n",
        "    encoder = gdet.create_box_encoder(model_filename, batch_size=1)\n",
        "    metric = nn_matching.NearestNeighborDistanceMetric(\"cosine\", max_cosine_distance, nn_budget)\n",
        "    tracker = Tracker(metric)\n",
        "\n",
        "    physical_devices = tf.config.experimental.list_physical_devices('GPU')\n",
        "    if len(physical_devices) > 0:\n",
        "        tf.config.experimental.set_memory_growth(physical_devices[0], True)\n",
        "\n",
        "    if FLAGS.tiny:\n",
        "        yolo = YoloV3Tiny(classes=FLAGS.num_classes)\n",
        "    else:\n",
        "        yolo = YoloV3(classes=FLAGS.num_classes)\n",
        "\n",
        "    yolo.load_weights(FLAGS.weights)\n",
        "    logging.info('weights loaded')\n",
        "\n",
        "    class_names = [c.strip() for c in open(FLAGS.classes).readlines()]\n",
        "    logging.info('classes loaded')\n",
        "\n",
        "    try:\n",
        "        vid = cv2.VideoCapture(int(FLAGS.video))\n",
        "    except:\n",
        "        vid = cv2.VideoCapture(FLAGS.video)\n",
        "\n",
        "    out = None\n",
        "\n",
        "    if FLAGS.output:\n",
        "        # by default VideoCapture returns float instead of int\n",
        "        width = int(vid.get(cv2.CAP_PROP_FRAME_WIDTH))\n",
        "        height = int(vid.get(cv2.CAP_PROP_FRAME_HEIGHT))\n",
        "        fps = int(vid.get(cv2.CAP_PROP_FPS))\n",
        "        codec = cv2.VideoWriter_fourcc(*FLAGS.output_format)\n",
        "        out = cv2.VideoWriter(FLAGS.output, codec, fps, (width, height))\n",
        "        list_file = open('detection.txt', 'w')\n",
        "        frame_index = -1 \n",
        "    \n",
        "    fps = 0.0\n",
        "    count = 0 \n",
        "    while True:\n",
        "        _, img = vid.read()\n",
        "\n",
        "        if img is None:\n",
        "            logging.warning(\"Empty Frame\")\n",
        "            time.sleep(0.1)\n",
        "            count+=1\n",
        "            if count < 3:\n",
        "                continue\n",
        "            else: \n",
        "                break\n",
        "\n",
        "        img_in = cv2.cvtColor(img, cv2.COLOR_BGR2RGB) \n",
        "        img_in = tf.expand_dims(img_in, 0)\n",
        "        img_in = transform_images(img_in, FLAGS.size)\n",
        "\n",
        "        t1 = time.time()\n",
        "        boxes, scores, classes, nums = yolo.predict(img_in)\n",
        "        classes = classes[0]\n",
        "        names = []\n",
        "        for i in range(len(classes)):\n",
        "            names.append(class_names[int(classes[i])])\n",
        "        names = np.array(names)\n",
        "        converted_boxes = convert_boxes(img, boxes[0])\n",
        "        features = encoder(img, converted_boxes)    \n",
        "        detections = [Detection(bbox, score, class_name, feature) for bbox, score, class_name, feature in zip(converted_boxes, scores[0], names, features)]\n",
        "        \n",
        "        #initialize color map\n",
        "        cmap = plt.get_cmap('tab20b')\n",
        "        colors = [cmap(i)[:3] for i in np.linspace(0, 1, 20)]\n",
        "\n",
        "        # run non-maxima suppresion\n",
        "        boxs = np.array([d.tlwh for d in detections])\n",
        "        scores = np.array([d.confidence for d in detections])\n",
        "        classes = np.array([d.class_name for d in detections])\n",
        "        indices = preprocessing.non_max_suppression(boxs, classes, nms_max_overlap, scores)\n",
        "        detections = [detections[i] for i in indices]        \n",
        "\n",
        "        # Call the tracker\n",
        "        tracker.predict()\n",
        "        tracker.update(detections)\n",
        "\n",
        "        for track in tracker.tracks:\n",
        "            if not track.is_confirmed() or track.time_since_update > 1:\n",
        "                continue \n",
        "            bbox = track.to_tlbr()\n",
        "            class_name = track.get_class()\n",
        "            color = colors[int(track.track_id) % len(colors)]\n",
        "            color = [i * 255 for i in color]\n",
        "            cv2.rectangle(img, (int(bbox[0]), int(bbox[1])), (int(bbox[2]), int(bbox[3])), color, 2)\n",
        "            cv2.rectangle(img, (int(bbox[0]), int(bbox[1]-30)), (int(bbox[0])+(len(class_name)+len(str(track.track_id)))*17, int(bbox[1])), color, -1)\n",
        "            cv2.putText(img, class_name + \"-\" + str(track.track_id),(int(bbox[0]), int(bbox[1]-10)),0, 0.75, (255,255,255),2)\n",
        "            \n",
        "        ### UNCOMMENT BELOW IF YOU WANT CONSTANTLY CHANGING YOLO DETECTIONS TO BE SHOWN ON SCREEN\n",
        "        #for det in detections:\n",
        "        #    bbox = det.to_tlbr() \n",
        "        #    cv2.rectangle(img,(int(bbox[0]), int(bbox[1])), (int(bbox[2]), int(bbox[3])),(255,0,0), 2)\n",
        "        \n",
        "        # print fps on screen \n",
        "        fps  = ( fps + (1./(time.time()-t1)) ) / 2\n",
        "        cv2.putText(img, \"FPS: {:.2f}\".format(fps), (0, 30),\n",
        "                          cv2.FONT_HERSHEY_COMPLEX_SMALL, 1, (0, 0, 255), 2)\n",
        "        #cv2.imshow('output', img)\n",
        "        if FLAGS.output:\n",
        "            out.write(img)\n",
        "            frame_index = frame_index + 1\n",
        "            list_file.write(str(frame_index)+' ')\n",
        "            if len(converted_boxes) != 0:\n",
        "                for i in range(0,len(converted_boxes)):\n",
        "                    list_file.write(str(converted_boxes[i][0]) + ' '+str(converted_boxes[i][1]) + ' '+str(converted_boxes[i][2]) + ' '+str(converted_boxes[i][3]) + ' ')\n",
        "            list_file.write('\\n')\n",
        "\n",
        "        # press q to quit\n",
        "        if cv2.waitKey(1) == ord('q'):\n",
        "            break\n",
        "    vid.release()\n",
        "    if FLAGS.ouput:\n",
        "        out.release()\n",
        "        list_file.close()\n",
        "    cv2.destroyAllWindows()"
      ],
      "execution_count": 0,
      "outputs": [
        {
          "output_type": "stream",
          "text": [
            "Writing object_tracker.py\n"
          ],
          "name": "stdout"
        }
      ]
    },
    {
      "cell_type": "code",
      "metadata": {
        "id": "-xRDYDv69IUk",
        "colab_type": "code",
        "outputId": "87daa821-d3e6-4611-c7b1-367590ff81dc",
        "colab": {
          "base_uri": "https://localhost:8080/",
          "height": 34
        }
      },
      "source": [
        "cd data/video"
      ],
      "execution_count": 0,
      "outputs": [
        {
          "output_type": "stream",
          "text": [
            "/content/yolov3_deepsort/data/video\n"
          ],
          "name": "stdout"
        }
      ]
    },
    {
      "cell_type": "code",
      "metadata": {
        "id": "VSYucmqT9eVP",
        "colab_type": "code",
        "outputId": "561e4fdd-4f50-448e-9249-8c87750dafac",
        "colab": {
          "base_uri": "https://localhost:8080/",
          "height": 124
        }
      },
      "source": [
        "from google.colab import drive\n",
        "drive.mount('/content/drive')"
      ],
      "execution_count": 0,
      "outputs": [
        {
          "output_type": "stream",
          "text": [
            "Go to this URL in a browser: https://accounts.google.com/o/oauth2/auth?client_id=947318989803-6bn6qk8qdgf4n4g3pfee6491hc0brc4i.apps.googleusercontent.com&redirect_uri=urn%3aietf%3awg%3aoauth%3a2.0%3aoob&response_type=code&scope=email%20https%3a%2f%2fwww.googleapis.com%2fauth%2fdocs.test%20https%3a%2f%2fwww.googleapis.com%2fauth%2fdrive%20https%3a%2f%2fwww.googleapis.com%2fauth%2fdrive.photos.readonly%20https%3a%2f%2fwww.googleapis.com%2fauth%2fpeopleapi.readonly\n",
            "\n",
            "Enter your authorization code:\n",
            "··········\n",
            "Mounted at /content/drive\n"
          ],
          "name": "stdout"
        }
      ]
    },
    {
      "cell_type": "code",
      "metadata": {
        "id": "Te_v2KvD-VUe",
        "colab_type": "code",
        "outputId": "60abd7ea-159e-40cb-8703-29aa86020848",
        "colab": {
          "base_uri": "https://localhost:8080/",
          "height": 34
        }
      },
      "source": [
        "cd .."
      ],
      "execution_count": 0,
      "outputs": [
        {
          "output_type": "stream",
          "text": [
            "/content/yolov3_deepsort\n"
          ],
          "name": "stdout"
        }
      ]
    },
    {
      "cell_type": "code",
      "metadata": {
        "id": "DpCXu0V49-US",
        "colab_type": "code",
        "outputId": "27298360-db1c-48f2-de89-c5a6fe8bdcd9",
        "colab": {
          "base_uri": "https://localhost:8080/",
          "height": 34
        }
      },
      "source": [
        "!ls"
      ],
      "execution_count": 0,
      "outputs": [
        {
          "output_type": "stream",
          "text": [
            "results.avi  test.mp4\n"
          ],
          "name": "stdout"
        }
      ]
    },
    {
      "cell_type": "code",
      "metadata": {
        "id": "GcUdSvMj9UW4",
        "colab_type": "code",
        "colab": {}
      },
      "source": [
        "!cp 'results.avi' '/content/drive/My Drive/nanonets/results.avi'"
      ],
      "execution_count": 0,
      "outputs": []
    },
    {
      "cell_type": "code",
      "metadata": {
        "id": "Qurbg5k_p5-E",
        "colab_type": "code",
        "outputId": "3efff279-0d22-4ab8-f7d5-d7cb3463dae4",
        "colab": {
          "base_uri": "https://localhost:8080/",
          "height": 52
        }
      },
      "source": [
        "!python object_tracker.py --video ./data/video/test.mp4 --output ./data/video/results.avi"
      ],
      "execution_count": 0,
      "outputs": [
        {
          "output_type": "stream",
          "text": [
            "/usr/local/lib/python3.6/dist-packages/statsmodels/tools/_testing.py:19: FutureWarning: pandas.util.testing is deprecated. Use the functions in the public API at pandas.testing instead.\n",
            "  import pandas.util.testing as tm\n"
          ],
          "name": "stdout"
        }
      ]
    }
  ]
}